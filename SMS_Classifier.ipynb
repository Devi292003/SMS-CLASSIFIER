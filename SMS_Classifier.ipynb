{
  "cells": [
    {
      "cell_type": "code",
      "execution_count": 1,
      "id": "6d5d098a",
      "metadata": {
        "id": "6d5d098a"
      },
      "outputs": [],
      "source": [
        "import pandas as pd\n",
        "from sklearn.model_selection import train_test_split\n",
        "from sklearn.feature_extraction.text import CountVectorizer\n",
        "from sklearn.naive_bayes import MultinomialNB\n",
        "from sklearn.metrics import accuracy_score, classification_report\n"
      ]
    },
    {
      "cell_type": "code",
      "execution_count": 2,
      "id": "958d03f7",
      "metadata": {
        "id": "958d03f7"
      },
      "outputs": [],
      "source": [
        "# Load dataset\n",
        "df = pd.read_csv('SMSSpamCollection.csv', sep='\\t', names=['label', 'message'])"
      ]
    },
    {
      "cell_type": "code",
      "source": [
        "# Data Preprocessing\n",
        "df['label'] = df['label'].map({'ham': 0, 'spam': 1})\n",
        "X_train, X_test, y_train, y_test = train_test_split(df['message'], df['label'], test_size=0.2, random_state=42)"
      ],
      "metadata": {
        "id": "qOs4YClzO8JH"
      },
      "id": "qOs4YClzO8JH",
      "execution_count": 3,
      "outputs": []
    },
    {
      "cell_type": "code",
      "source": [
        "# Text Vectorization\n",
        "vectorizer = CountVectorizer()\n",
        "X_train_vectorized = vectorizer.fit_transform(X_train)\n",
        "X_test_vectorized = vectorizer.transform(X_test)"
      ],
      "metadata": {
        "id": "Y1DKa80sO8L_"
      },
      "id": "Y1DKa80sO8L_",
      "execution_count": 4,
      "outputs": []
    },
    {
      "cell_type": "code",
      "source": [
        "# Train Model\n",
        "classifier = MultinomialNB()\n",
        "classifier.fit(X_train_vectorized, y_train)\n",
        "\n",
        "# Make Predictions\n",
        "predictions = classifier.predict(X_test_vectorized)\n"
      ],
      "metadata": {
        "id": "VC3TNuQ4O8Ss"
      },
      "id": "VC3TNuQ4O8Ss",
      "execution_count": 5,
      "outputs": []
    },
    {
      "cell_type": "code",
      "source": [
        "# Evaluate Model\n",
        "accuracy = accuracy_score(y_test, predictions)\n",
        "report = classification_report(y_test, predictions)\n",
        "print(f'Accuracy: {accuracy}')\n",
        "print(f'Classification Report:\\n{report}')\n"
      ],
      "metadata": {
        "colab": {
          "base_uri": "https://localhost:8080/"
        },
        "id": "ASclZzKtPEHZ",
        "outputId": "1ae30fee-0ddf-48dc-fcb5-fbb3395ef4e7"
      },
      "id": "ASclZzKtPEHZ",
      "execution_count": 6,
      "outputs": [
        {
          "output_type": "stream",
          "name": "stdout",
          "text": [
            "Accuracy: 0.9919282511210762\n",
            "Classification Report:\n",
            "              precision    recall  f1-score   support\n",
            "\n",
            "           0       0.99      1.00      1.00       966\n",
            "           1       1.00      0.94      0.97       149\n",
            "\n",
            "    accuracy                           0.99      1115\n",
            "   macro avg       1.00      0.97      0.98      1115\n",
            "weighted avg       0.99      0.99      0.99      1115\n",
            "\n"
          ]
        }
      ]
    },
    {
      "cell_type": "code",
      "source": [
        "# Take User Input\n",
        "user_input = input('Enter SMS Message: ')\n",
        "user_input_vectorized = vectorizer.transform([user_input])\n",
        "prediction = classifier.predict(user_input_vectorized)\n",
        "\n",
        "if prediction[0] == 1:\n",
        "    print(' Hey! It is a Spam SMS..!')\n",
        "else:\n",
        "    print('Dont worry! It is a Non-Spam SMS..!')"
      ],
      "metadata": {
        "colab": {
          "base_uri": "https://localhost:8080/"
        },
        "id": "iTu3rkMsPGPI",
        "outputId": "db264ccd-0d6d-4f8b-889b-8cf6d0a32eff"
      },
      "id": "iTu3rkMsPGPI",
      "execution_count": 7,
      "outputs": [
        {
          "output_type": "stream",
          "name": "stdout",
          "text": [
            "Enter SMS Message: hi you have recieved 1000 rupees\n",
            " Hey! It is a Spam SMS..!\n"
          ]
        }
      ]
    },
    {
      "cell_type": "code",
      "source": [
        "# Take User Input\n",
        "user_input = input('Enter SMS Message: ')\n",
        "user_input_vectorized = vectorizer.transform([user_input])\n",
        "prediction = classifier.predict(user_input_vectorized)\n",
        "\n",
        "if prediction[0] == 1:\n",
        "    print(' Hey! It is a Spam SMS..!')\n",
        "else:\n",
        "    print('Dont worry! It is a Non-Spam SMS..!')"
      ],
      "metadata": {
        "colab": {
          "base_uri": "https://localhost:8080/"
        },
        "id": "uawTs6TJQAxP",
        "outputId": "847f3b6e-63fc-44b5-c936-135bcd313b7c"
      },
      "id": "uawTs6TJQAxP",
      "execution_count": 11,
      "outputs": [
        {
          "output_type": "stream",
          "name": "stdout",
          "text": [
            "Enter SMS Message: hello all good morning \n",
            "Dont worry! It is a Non-Spam SMS..!\n"
          ]
        }
      ]
    }
  ],
  "metadata": {
    "kernelspec": {
      "display_name": "Python 3 (ipykernel)",
      "language": "python",
      "name": "python3"
    },
    "language_info": {
      "codemirror_mode": {
        "name": "ipython",
        "version": 3
      },
      "file_extension": ".py",
      "mimetype": "text/x-python",
      "name": "python",
      "nbconvert_exporter": "python",
      "pygments_lexer": "ipython3",
      "version": "3.11.5"
    },
    "colab": {
      "provenance": []
    }
  },
  "nbformat": 4,
  "nbformat_minor": 5
}